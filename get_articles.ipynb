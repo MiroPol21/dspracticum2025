{
  "cells": [
    {
      "cell_type": "markdown",
      "metadata": {
        "id": "view-in-github",
        "colab_type": "text"
      },
      "source": [
        "<a href=\"https://colab.research.google.com/github/MiroPol21/dspracticum2025/blob/main/get_articles.ipynb\" target=\"_parent\"><img src=\"https://colab.research.google.com/assets/colab-badge.svg\" alt=\"Open In Colab\"/></a>"
      ]
    },
    {
      "cell_type": "markdown",
      "metadata": {
        "id": "B5j8Ih8JeWh8"
      },
      "source": [
        "**1. Fetch 500-1000 abstracts**"
      ]
    },
    {
      "cell_type": "code",
      "source": [
        "# pip install feedparser"
      ],
      "metadata": {
        "id": "zau_z1avdhT6"
      },
      "execution_count": null,
      "outputs": []
    },
    {
      "cell_type": "code",
      "source": [
        "import feedparser, json, time, re, requests"
      ],
      "metadata": {
        "id": "cMfto7c5emjE"
      },
      "execution_count": 8,
      "outputs": []
    },
    {
      "cell_type": "code",
      "source": [
        "queries = [\"recreation\", \"leisure\", \"tourism\", \"sports\", \"wellbeing\", \"outdoor\", \"play\"]\n",
        "max_per_query = 150  # keep it small\n",
        "results = []\n",
        "\n",
        "for query in queries:\n",
        "    print(f\"Fetching {query}\")\n",
        "    url = f\"http://export.arxiv.org/api/query?search_query=all:{query}&start=0&max_results={max_per_query}\"\n",
        "    feed = feedparser.parse(url)\n",
        "    for entry in feed.entries:\n",
        "        text = (entry.get(\"title\", \"\") + \" \" + entry.get(\"summary\", \"\")).strip()\n",
        "        if len(text) > 300:  # skip junk\n",
        "            results.append({\"text\": text})\n",
        "    time.sleep(2)\n",
        "\n",
        "with open(\"arxiv_recreology_small.jsonl\", \"w\", encoding=\"utf-8\") as f:\n",
        "    for r in results:\n",
        "        f.write(json.dumps(r) + \"\\n\")\n",
        "\n",
        "print(f\"Saved {len(results)} abstracts (~{sum(len(r['text']) for r in results):,} chars)\")"
      ],
      "metadata": {
        "id": "YhU-cYFxdMJf"
      },
      "execution_count": null,
      "outputs": []
    },
    {
      "cell_type": "markdown",
      "source": [
        "**2. Clean**"
      ],
      "metadata": {
        "id": "WE7H6dIIeAeo"
      }
    },
    {
      "cell_type": "code",
      "source": [
        "cleaned = []\n",
        "with open(\"arxiv_recreology_small.jsonl\", \"r\", encoding=\"utf-8\") as f:\n",
        "    for line in f:\n",
        "        d = json.loads(line)\n",
        "        text = re.sub(r\"\\s+\", \" \", d[\"text\"])\n",
        "        text = re.sub(r\"\\(arXiv:[^)]+\\)\", \"\", text)\n",
        "        cleaned.append({\"text\": text.strip()})\n",
        "\n",
        "with open(\"recreology_clean.jsonl\", \"w\", encoding=\"utf-8\") as f:\n",
        "    for c in cleaned:\n",
        "        f.write(json.dumps(c) + \"\\n\")\n",
        "\n",
        "print(f\"Cleaned {len(cleaned)} entries.\")"
      ],
      "metadata": {
        "id": "xpCv53Sed_f0",
        "outputId": "513c12c8-d4c8-4b14-adc0-e74d60290e7e",
        "colab": {
          "base_uri": "https://localhost:8080/"
        }
      },
      "execution_count": 4,
      "outputs": [
        {
          "output_type": "stream",
          "name": "stdout",
          "text": [
            "Cleaned 1036 entries.\n"
          ]
        }
      ]
    },
    {
      "cell_type": "markdown",
      "source": [
        "**3. Verify**"
      ],
      "metadata": {
        "id": "oFTYlx1GeRBb"
      }
    },
    {
      "cell_type": "code",
      "source": [
        "with open(\"arxiv_recreology_small.jsonl\", \"r\", encoding=\"utf-8\") as f:\n",
        "    for i, line in enumerate(f):\n",
        "        data = json.loads(line)\n",
        "        print(f\"--- ARTICLE {i+1} ---\")\n",
        "        print(data[\"text\"][:1000])  # first 1000 chars\n",
        "        print()\n",
        "        if i >= 4:  # show 5 examples\n",
        "            break"
      ],
      "metadata": {
        "id": "Gjk4LA5ceTOm"
      },
      "execution_count": null,
      "outputs": []
    },
    {
      "cell_type": "code",
      "source": [
        "char_count = 0\n",
        "line_count = 0\n",
        "\n",
        "with open(\"arxiv_recreology_small.jsonl\", \"r\", encoding=\"utf-8\") as f:\n",
        "    for line in f:\n",
        "        data = json.loads(line)\n",
        "        text = data.get(\"text\", \"\")\n",
        "        char_count += len(text)\n",
        "        line_count += 1\n",
        "\n",
        "print(f\"Total characters: {char_count:,}\")\n",
        "print(f\"Number of articles: {line_count}\")\n",
        "print(f\"Average per article: {char_count // max(line_count, 1):,}\")\n"
      ],
      "metadata": {
        "id": "5aJgHsB6eqYG",
        "outputId": "2c3abf63-fb7d-4274-e96a-bc571b295e4c",
        "colab": {
          "base_uri": "https://localhost:8080/"
        }
      },
      "execution_count": 6,
      "outputs": [
        {
          "output_type": "stream",
          "name": "stdout",
          "text": [
            "Total characters: 1,235,733\n",
            "Number of articles: 1036\n",
            "Average per article: 1,192\n"
          ]
        }
      ]
    },
    {
      "cell_type": "markdown",
      "source": [
        "**4. Expand**"
      ],
      "metadata": {
        "id": "GWh3lwNXe9pV"
      }
    },
    {
      "cell_type": "code",
      "source": [
        "import requests, json\n",
        "\n",
        "topics = [\"Recreation\", \"Leisure studies\", \"Tourism\", \"Outdoor education\", \"Play (activity)\", \"Sports sociology\"]\n",
        "data = []\n",
        "\n",
        "for topic in topics:\n",
        "    r = requests.get(f\"https://en.wikipedia.org/api/rest_v1/page/plain/{topic}\")\n",
        "    if r.status_code == 200:\n",
        "        data.append({\"text\": r.text})\n",
        "\n",
        "with open(\"wiki_recreology.jsonl\", \"w\", encoding=\"utf-8\") as f:\n",
        "    for d in data:\n",
        "        f.write(json.dumps(d) + \"\\n\")\n",
        "\n",
        "print(f\"Added {len(data)} Wikipedia articles.\")"
      ],
      "metadata": {
        "id": "Sg9F2RMmfAXR",
        "outputId": "67d06da5-e2a8-4596-9457-5cef0191d03d",
        "colab": {
          "base_uri": "https://localhost:8080/"
        }
      },
      "execution_count": 7,
      "outputs": [
        {
          "output_type": "stream",
          "name": "stdout",
          "text": [
            "Added 0 Wikipedia articles.\n"
          ]
        }
      ]
    }
  ],
  "metadata": {
    "accelerator": "GPU",
    "colab": {
      "gpuType": "T4",
      "provenance": [],
      "name": "get_articles.ipynb",
      "include_colab_link": true
    },
    "kernelspec": {
      "display_name": "py31013",
      "language": "python",
      "name": "python3"
    },
    "language_info": {
      "codemirror_mode": {
        "name": "ipython",
        "version": 3
      },
      "file_extension": ".py",
      "mimetype": "text/x-python",
      "name": "python",
      "nbconvert_exporter": "python",
      "pygments_lexer": "ipython3",
      "version": "3.10.13"
    }
  },
  "nbformat": 4,
  "nbformat_minor": 0
}